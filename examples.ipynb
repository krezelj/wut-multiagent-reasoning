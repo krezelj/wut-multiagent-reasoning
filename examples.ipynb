{
    "cells": [
        {
            "cell_type": "code",
            "execution_count": 5,
            "metadata": {},
            "outputs": [],
            "source": [
                "from core.statements import *\n",
                "from core.program import *\n",
                "from core.model import *\n",
                "from core.queries import *"
            ]
        },
        {
            "cell_type": "markdown",
            "metadata": {},
            "source": [
                "## Formuły logiczne\n",
                "\n",
                "Dostępne jest 5 operacji logicznych\n",
                "- `not()` -- negacja\n",
                "- `and()` -- koniunkcja\n",
                "- `or()`  -- alternatywa\n",
                "- `imp()` -- implikacja\n",
                "- `eq()`  -- równoważność\n",
                "\n",
                "Argumenty\n",
                "- `not` -- jednoargumentowa\n",
                "- `and` -- dowolna liczba argumentów, dla 0 argumentów zawsze zwraca prawdę\n",
                "- `or`  -- dowolna liczba argumentów, dla 0 argumentów zawsze zwraca fałsz\n",
                "- `imp` -- dwuargumentowa\n",
                "- `eq`  -- dwuargumentowa\n",
                "\n",
                "Jeśli dana formuła lub zagnieżdżona formuła\\\n",
                "nie jest jedną z powyższych to traktowana jest jako literał\\\n",
                "i jej wartość jest wyszukiwana w zbiorze wartościowań literałów.\n",
                "\n",
                "Nazwa literału może raczej być dowolna, ale:\n",
                "- nie może zawierać nawiasów\n",
                "- znaki białe są usuwane\n",
                "- wielkość liter nie ma znaczenia (wszystko konwertowane jest do lower case)\n",
                "- zarezerwowane są dwa specjalne literały `true` i `false`, które zwracają odpowiednio `True` i `False` zawsze\n",
                "\n",
                "### Przykłady\n",
                "**Przykład 1**\n",
                "\n",
                "formuła: `(p v q) ^ ~r`\\\n",
                "inaczej: `(p or q) and not r`\\\n",
                "zapis: `and(or(p, q), not(r))`\n",
                "\n",
                "**Przykład 2**\n",
                "\n",
                "formuła: `(p => q) v ~(r <=> q) v (p ^ r)`\\\n",
                "zapis: `or(imp(p, q), not(eq(r, q)), and(p, q))`\n"
            ]
        },
        {
            "cell_type": "code",
            "execution_count": 6,
            "metadata": {},
            "outputs": [],
            "source": [
                "from core.expressions import parse_expression"
            ]
        },
        {
            "cell_type": "code",
            "execution_count": 7,
            "metadata": {},
            "outputs": [
                {
                    "data": {
                        "text/plain": [
                            "True"
                        ]
                    },
                    "execution_count": 7,
                    "metadata": {},
                    "output_type": "execute_result"
                }
            ],
            "source": [
                "condition = parse_expression('and(or(p, q), not(r))')\n",
                "values = {\n",
                "    'p': True,\n",
                "    'q': False,\n",
                "    'r': False\n",
                "}\n",
                "condition(values)"
            ]
        },
        {
            "cell_type": "markdown",
            "metadata": {},
            "source": [
                "## Przykłady Historyjek i Kwerend"
            ]
        },
        {
            "cell_type": "markdown",
            "metadata": {},
            "source": [
                "### Przykład 1 - Yale Shooting Problem (Wykład)\n",
                "Przykład bez użycia agentów -- każda formuła agentowa będzie postaci `true` i dowolna grupa agentów (w tym pusta) będzie mogła\n",
                "wykonać tą akcję\n",
                "\n",
                "````{verbatim}\n",
                "initially alive\n",
                "initially ~loaded\n",
                "load causes loaded\n",
                "shoot causes ~loaded\n",
                "shoot causes ~alive if loaded\n",
                "````"
            ]
        },
        {
            "cell_type": "code",
            "execution_count": 8,
            "metadata": {},
            "outputs": [],
            "source": [
                "fluents = ['alive', 'loaded']   # lista fluentów, jeśli ma być użyta gdzieś indziej to musi być w tej samej kolejności\n",
                "actions = ['load', 'shoot']     # lista akcji\n",
                "agents = []                     # lista agentów, jeśli ma być użyta gdzieś indziej to musi być w tej samej kolejności\n",
                "domain = [\n",
                "    Initialisation('and(alive, not(loaded))'), # initially alive and not loaded\n",
                "    Effect('load', 'true', 'loaded'), # load (by true/anyone) causes loaded\n",
                "    Effect('shoot', 'true', 'not(loaded)'), # shoot (by true/anyone) causes not loaded\n",
                "    Effect('shoot', 'true', 'not(alive)', 'loaded') # shoot (by true/anyone) causes not alive if loaded\n",
                "]\n",
                "\n",
                "model = Model(fluents, actions, agents, domain)"
            ]
        },
        {
            "cell_type": "markdown",
            "metadata": {},
            "source": [
                "Stany początkowe"
            ]
        },
        {
            "cell_type": "code",
            "execution_count": 6,
            "metadata": {},
            "outputs": [
                {
                    "data": {
                        "text/plain": [
                            "[{'loaded': False, 'alive': True}]"
                        ]
                    },
                    "execution_count": 6,
                    "metadata": {},
                    "output_type": "execute_result"
                }
            ],
            "source": [
                "model.initial_states"
            ]
        },
        {
            "cell_type": "markdown",
            "metadata": {},
            "source": [
                "Wszystkie stany"
            ]
        },
        {
            "cell_type": "code",
            "execution_count": 9,
            "metadata": {},
            "outputs": [
                {
                    "data": {
                        "text/plain": [
                            "[{'loaded': False, 'alive': False},\n",
                            " {'loaded': True, 'alive': False},\n",
                            " {'loaded': False, 'alive': True},\n",
                            " {'loaded': True, 'alive': True}]"
                        ]
                    },
                    "execution_count": 9,
                    "metadata": {},
                    "output_type": "execute_result"
                }
            ],
            "source": [
                "model.states"
            ]
        },
        {
            "cell_type": "markdown",
            "metadata": {},
            "source": [
                "Przykład wykonania akcji w stanie początkowym"
            ]
        },
        {
            "cell_type": "code",
            "execution_count": 10,
            "metadata": {},
            "outputs": [
                {
                    "name": "stdout",
                    "output_type": "stream",
                    "text": [
                        "{'loaded': False, 'alive': True}\n",
                        "[{'loaded': True, 'alive': True}]\n"
                    ]
                }
            ],
            "source": [
                "ag = AgentGroup([], agents) # [] to lista agentów w tej grupie (brak agentów)\n",
                "s0 = model.initial_states[0]\n",
                "result = model.res('load', ag, s0)\n",
                "print(s0)\n",
                "print(result) # res zwraca listę wszystkich stanów wynikowych, tutaj tylko jeden"
            ]
        },
        {
            "cell_type": "code",
            "execution_count": 11,
            "metadata": {},
            "outputs": [
                {
                    "name": "stdout",
                    "output_type": "stream",
                    "text": [
                        "[{'loaded': False, 'alive': False}]\n"
                    ]
                }
            ],
            "source": [
                "s1 = result[0]\n",
                "result = model.res('shoot', ag, s1)\n",
                "print(result) # broń nienaładowana, indyk nie żyje"
            ]
        },
        {
            "cell_type": "markdown",
            "metadata": {},
            "source": [
                "Przykład Kwerendy i Programu"
            ]
        },
        {
            "cell_type": "code",
            "execution_count": 12,
            "metadata": {},
            "outputs": [
                {
                    "data": {
                        "text/plain": [
                            "True"
                        ]
                    },
                    "execution_count": 12,
                    "metadata": {},
                    "output_type": "execute_result"
                }
            ],
            "source": [
                "P = Program([('load', ag), ('shoot', ag)]) # P = (load by ag, shoot by ag)\n",
                "Q = ValueQuery(True, 'and(not(loaded), not(alive))', P) # necessary (true) not loaded and not alive after P (from true => any initial state)\n",
                "Q.answer(model)"
            ]
        },
        {
            "cell_type": "markdown",
            "metadata": {},
            "source": [
                "### Przykład 2 -- Rzut Monetą, Agenci\n",
                "\n",
                "Mamy monetę, \n",
                "rzut monetą przez agenta A skutkuje 50/50 heads lub tails (not heads)\n",
                "rzut monetą przez agenta B zawsze skutkuje heads\n",
                "rzut monetą przez obu agentów jest niemożliwy\n",
                "rzut monetą przez żadnego z agentów nic nie robi\n",
                "\n",
                "\n",
                "````{verbatim}\n",
                "initially heads\n",
                "toss by A releases heads\n",
                "toss by B causes heads\n",
                "toss by A ^ B causes false // impossible toss by A ^ B\n",
                "````"
            ]
        },
        {
            "cell_type": "code",
            "execution_count": 13,
            "metadata": {},
            "outputs": [],
            "source": [
                "fluents = ['heads']\n",
                "actions = ['toss']\n",
                "agents = ['A', 'B']\n",
                "domain = [\n",
                "    Initialisation('not(heads)'),\n",
                "    Release('toss', 'A', 'heads'), # toss by A releases heads (with no precondtion)\n",
                "    Effect('toss', 'B', 'heads'),\n",
                "    Effect('toss', 'and(A, B)', 'false') # toss by A and B causes false (impossible)\n",
                "]\n",
                "\n",
                "model = Model(fluents, actions, agents, domain)"
            ]
        },
        {
            "cell_type": "code",
            "execution_count": 14,
            "metadata": {},
            "outputs": [],
            "source": [
                "s0 = model.initial_states[0]\n",
                "agentA = AgentGroup(['A'], agents)\n",
                "agentB = AgentGroup(['B'], agents)\n",
                "agentsAB = AgentGroup(['A', 'B'], agents)\n",
                "noAgents = AgentGroup([], agents)"
            ]
        },
        {
            "cell_type": "code",
            "execution_count": 15,
            "metadata": {},
            "outputs": [
                {
                    "data": {
                        "text/plain": [
                            "[{'heads': False}, {'heads': True}]"
                        ]
                    },
                    "execution_count": 15,
                    "metadata": {},
                    "output_type": "execute_result"
                }
            ],
            "source": [
                "model.res('toss', agentA, s0) # releases, więc obie strony monety możliwe"
            ]
        },
        {
            "cell_type": "code",
            "execution_count": 16,
            "metadata": {},
            "outputs": [
                {
                    "data": {
                        "text/plain": [
                            "[{'heads': True}]"
                        ]
                    },
                    "execution_count": 16,
                    "metadata": {},
                    "output_type": "execute_result"
                }
            ],
            "source": [
                "model.res('toss', agentB, s0) # tylko heads możliwe"
            ]
        },
        {
            "cell_type": "markdown",
            "metadata": {},
            "source": [
                "Niemożliwe akcje na ogół wyrzucają błąd"
            ]
        },
        {
            "cell_type": "code",
            "execution_count": 17,
            "metadata": {},
            "outputs": [
                {
                    "name": "stdout",
                    "output_type": "stream",
                    "text": [
                        "Unexecutable action toss by {'a': True, 'b': True} in {'heads': False}\n"
                    ]
                }
            ],
            "source": [
                "try:\n",
                "    model.res('toss', agentsAB, s0)\n",
                "except Exception as e:\n",
                "    print(e)"
            ]
        },
        {
            "cell_type": "markdown",
            "metadata": {},
            "source": [
                "Ale można to obejść (wewnątrz silnika często jest obchodzone bo łatwiej sprawdzić pustą listę niż błąd)"
            ]
        },
        {
            "cell_type": "code",
            "execution_count": 18,
            "metadata": {},
            "outputs": [
                {
                    "data": {
                        "text/plain": [
                            "[]"
                        ]
                    },
                    "execution_count": 18,
                    "metadata": {},
                    "output_type": "execute_result"
                }
            ],
            "source": [
                "model.res('toss', agentsAB, s0, force_execution=True)"
            ]
        },
        {
            "cell_type": "markdown",
            "metadata": {},
            "source": [
                "Pustej listy nie należy mylić z brakiem efektów\\\n",
                "Brak efektów skutkuje stanem, z którego zaczęliśmy to znaczy"
            ]
        },
        {
            "cell_type": "code",
            "execution_count": 17,
            "metadata": {},
            "outputs": [
                {
                    "data": {
                        "text/plain": [
                            "[{'heads': False}]"
                        ]
                    },
                    "execution_count": 17,
                    "metadata": {},
                    "output_type": "execute_result"
                }
            ],
            "source": [
                "model.res('toss', noAgents, s0)\n",
                "# zwracany tylko jeden stan not heads mimo, że w domenie nie ma zdania, które deterministycznie to powoduje\n",
                "# możliwe jedynie dlatego, że akcja toss bez agentów ma pusty efekt"
            ]
        },
        {
            "cell_type": "markdown",
            "metadata": {},
            "source": [
                "Executability Query"
            ]
        },
        {
            "cell_type": "code",
            "execution_count": 18,
            "metadata": {},
            "outputs": [
                {
                    "data": {
                        "text/plain": [
                            "False"
                        ]
                    },
                    "execution_count": 18,
                    "metadata": {},
                    "output_type": "execute_result"
                }
            ],
            "source": [
                "P = Program([('toss', agentsAB)])\n",
                "Q = ExecutabilityQuery(True, P) # necessary executable P (from initial states)\n",
                "Q.answer(model)"
            ]
        },
        {
            "cell_type": "code",
            "execution_count": 19,
            "metadata": {},
            "outputs": [
                {
                    "data": {
                        "text/plain": [
                            "True"
                        ]
                    },
                    "execution_count": 19,
                    "metadata": {},
                    "output_type": "execute_result"
                }
            ],
            "source": [
                "P = Program([('toss', agentA)])\n",
                "Q = ExecutabilityQuery(True, P) # possibly executable P (from initial states)\n",
                "Q.answer(model)"
            ]
        },
        {
            "cell_type": "markdown",
            "metadata": {},
            "source": [
                "Accessability Query"
            ]
        },
        {
            "cell_type": "code",
            "execution_count": 20,
            "metadata": {},
            "outputs": [
                {
                    "data": {
                        "text/plain": [
                            "False"
                        ]
                    },
                    "execution_count": 20,
                    "metadata": {},
                    "output_type": "execute_result"
                }
            ],
            "source": [
                "Q = AccessabilityQuery(True, 'heads', agentA) # necessary accessible heads by agentA (from initial states)\n",
                "Q.answer(model) # False, bo może zawszy wypadać tails (not heads)"
            ]
        },
        {
            "cell_type": "code",
            "execution_count": 21,
            "metadata": {},
            "outputs": [
                {
                    "data": {
                        "text/plain": [
                            "True"
                        ]
                    },
                    "execution_count": 21,
                    "metadata": {},
                    "output_type": "execute_result"
                }
            ],
            "source": [
                "Q = AccessabilityQuery(False, 'heads', agentA) # possibly accessible heads by agentA (from initial states)\n",
                "Q.answer(model) # True bo może wypaść heads"
            ]
        },
        {
            "cell_type": "code",
            "execution_count": 22,
            "metadata": {},
            "outputs": [
                {
                    "data": {
                        "text/plain": [
                            "True"
                        ]
                    },
                    "execution_count": 22,
                    "metadata": {},
                    "output_type": "execute_result"
                }
            ],
            "source": [
                "Q = AccessabilityQuery(True, 'heads', agentB) # necessary accessible heads by agentB (from initial states)\n",
                "Q.answer(model) # True bo zawsze wypada heads"
            ]
        },
        {
            "cell_type": "code",
            "execution_count": 23,
            "metadata": {},
            "outputs": [
                {
                    "data": {
                        "text/plain": [
                            "True"
                        ]
                    },
                    "execution_count": 23,
                    "metadata": {},
                    "output_type": "execute_result"
                }
            ],
            "source": [
                "Q = AccessabilityQuery(False, 'not(heads)', agentB) # possibly accessible not heads by agentB (from initial states)\n",
                "Q.answer(model) # True bo zbiór pusty to podzbiór agentB, a dla zbioru pustego agentów dostajemy pusty efekt"
            ]
        },
        {
            "cell_type": "code",
            "execution_count": 24,
            "metadata": {},
            "outputs": [
                {
                    "data": {
                        "text/plain": [
                            "False"
                        ]
                    },
                    "execution_count": 24,
                    "metadata": {},
                    "output_type": "execute_result"
                }
            ],
            "source": [
                "Q = AccessabilityQuery(False, 'not(heads)', agentB, 'heads') # possibly accessible not heads by agentB from heads\n",
                "Q.answer(model) # False bo z heads, albo zawsze dostaniemy heads jeśli agent B rzuca, lub pusty efekt jeśli nikt nie rzuca"
            ]
        },
        {
            "cell_type": "markdown",
            "metadata": {},
            "source": [
                "### Przykład 3 -- Światło i przełączniki (Wykład)\n",
                "\n",
                "````{verbatim}\n",
                "initially switch1 ^ switch2\n",
                "always light <=> (switch1 <=> switch2)\n",
                "toggle1 causes switch1 if ~switch1\n",
                "toggle1 causes ~switch1 if switch1\n",
                "toggle2 causes switch2 if ~switch2\n",
                "toggle2 causes ~switch2 if switch2\n",
                "````"
            ]
        },
        {
            "cell_type": "code",
            "execution_count": 25,
            "metadata": {},
            "outputs": [],
            "source": [
                "fluents = ['switch1', 'switch2', 'light']\n",
                "actions = ['toggle1', 'toggle2']\n",
                "agents = []\n",
                "\n",
                "domain = [\n",
                "    Initialisation('and(switch1, switch2)'),\n",
                "    Constraint('eq(light, eq(switch1, switch2))'), # always...\n",
                "    Effect('toggle1', 'true', 'switch1', 'not(switch1)'),\n",
                "    Effect('toggle1', 'true', 'not(switch1)', 'switch1'),\n",
                "    Effect('toggle2', 'true', 'switch2', 'not(switch2)'),\n",
                "    Effect('toggle2', 'true', 'not(switch2)', 'switch2'),\n",
                "]\n",
                "\n",
                "model = Model(fluents, actions, agents, domain)"
            ]
        },
        {
            "cell_type": "code",
            "execution_count": 26,
            "metadata": {},
            "outputs": [
                {
                    "data": {
                        "text/plain": [
                            "[{'light': True, 'switch2': False, 'switch1': False},\n",
                            " {'light': False, 'switch2': True, 'switch1': False}]"
                        ]
                    },
                    "execution_count": 26,
                    "metadata": {},
                    "output_type": "execute_result"
                }
            ],
            "source": [
                "s0 = model.initial_states[0]\n",
                "ag = AgentGroup([], agents)\n",
                "model.res('toggle1', ag, s0)\n",
                "# przełączenie switch1 powoduje wyłączenie światła albo wyłączenie drugiego switcha"
            ]
        },
        {
            "cell_type": "markdown",
            "metadata": {},
            "source": [
                "Dodajemy `nonintertial light` "
            ]
        },
        {
            "cell_type": "code",
            "execution_count": 27,
            "metadata": {},
            "outputs": [],
            "source": [
                "domain = [\n",
                "    Initialisation('and(switch1, switch2)'),\n",
                "    Constraint('eq(light, eq(switch1, switch2))'),\n",
                "    Specification('light'), # noninertial light\n",
                "    Effect('toggle1', 'true', 'switch1', 'not(switch1)'),\n",
                "    Effect('toggle1', 'true', 'not(switch1)', 'switch1'),\n",
                "    Effect('toggle2', 'true', 'switch2', 'not(switch2)'),\n",
                "    Effect('toggle2', 'true', 'not(switch2)', 'switch2'),\n",
                "]\n",
                "\n",
                "model = Model(fluents, actions, agents, domain)"
            ]
        },
        {
            "cell_type": "code",
            "execution_count": 28,
            "metadata": {},
            "outputs": [
                {
                    "data": {
                        "text/plain": [
                            "[{'light': False, 'switch2': True, 'switch1': False}]"
                        ]
                    },
                    "execution_count": 28,
                    "metadata": {},
                    "output_type": "execute_result"
                }
            ],
            "source": [
                "s0 = model.initial_states[0]\n",
                "ag = AgentGroup([], agents)\n",
                "model.res('toggle1', ag, s0)\n",
                "# teraz przełączenie toggle1 jedynie wyłącza światło"
            ]
        },
        {
            "cell_type": "markdown",
            "metadata": {},
            "source": [
                "### Przykład 4 -- Pracownicy (Przykład 3 z dokumentu)\n",
                "\n",
                "`atLeastTwoWorkers` := $(P_1 \\wedge P_2)\\vee(P_2 \\wedge P_3)\\vee (P_1\\wedge P_3) $\\\n",
                "`atLeastThreeWorkers` := $P_1\\wedge P_2\\wedge P_3$ \n",
                "\n",
                "````{verbatim}\n",
                "initially ~block1, ~block2\n",
                "always block2=>block1\n",
                "addBlock by atLeastTwoWorkers causes block1 if ~block1\n",
                "addBlock by atLeastThreeWorkers causes block2 if block1 ^ ~block2\n",
                "````"
            ]
        },
        {
            "cell_type": "code",
            "execution_count": 3,
            "metadata": {},
            "outputs": [
                {
                    "ename": "NameError",
                    "evalue": "name 'Initialisation' is not defined",
                    "output_type": "error",
                    "traceback": [
                        "\u001b[1;31m---------------------------------------------------------------------------\u001b[0m",
                        "\u001b[1;31mNameError\u001b[0m                                 Traceback (most recent call last)",
                        "Cell \u001b[1;32mIn[3], line 6\u001b[0m\n\u001b[0;32m      2\u001b[0m actions \u001b[38;5;241m=\u001b[39m [\u001b[38;5;124m'\u001b[39m\u001b[38;5;124maddBlock\u001b[39m\u001b[38;5;124m'\u001b[39m]\n\u001b[0;32m      3\u001b[0m agents \u001b[38;5;241m=\u001b[39m [\u001b[38;5;124m'\u001b[39m\u001b[38;5;124mp1\u001b[39m\u001b[38;5;124m'\u001b[39m, \u001b[38;5;124m'\u001b[39m\u001b[38;5;124mp2\u001b[39m\u001b[38;5;124m'\u001b[39m, \u001b[38;5;124m'\u001b[39m\u001b[38;5;124mp3\u001b[39m\u001b[38;5;124m'\u001b[39m]\n\u001b[0;32m      5\u001b[0m domain \u001b[38;5;241m=\u001b[39m [\n\u001b[1;32m----> 6\u001b[0m     \u001b[43mInitialisation\u001b[49m(\u001b[38;5;124m'\u001b[39m\u001b[38;5;124mand(not(block1), not(block2))\u001b[39m\u001b[38;5;124m'\u001b[39m),\n\u001b[0;32m      7\u001b[0m     Constraint(\u001b[38;5;124m'\u001b[39m\u001b[38;5;124mimp(block2, block1)\u001b[39m\u001b[38;5;124m'\u001b[39m),\n\u001b[0;32m      8\u001b[0m     Effect(\u001b[38;5;124m'\u001b[39m\u001b[38;5;124maddBlock\u001b[39m\u001b[38;5;124m'\u001b[39m, \u001b[38;5;124m'\u001b[39m\u001b[38;5;124mor(and(p1, p2), and(p2, p2), and(p1, p3))\u001b[39m\u001b[38;5;124m'\u001b[39m, \u001b[38;5;124m'\u001b[39m\u001b[38;5;124mblock1\u001b[39m\u001b[38;5;124m'\u001b[39m, \u001b[38;5;124m'\u001b[39m\u001b[38;5;124mnot(block1)\u001b[39m\u001b[38;5;124m'\u001b[39m),\n\u001b[0;32m      9\u001b[0m     Effect(\u001b[38;5;124m'\u001b[39m\u001b[38;5;124maddBlock\u001b[39m\u001b[38;5;124m'\u001b[39m, \u001b[38;5;124m'\u001b[39m\u001b[38;5;124mand(p1, p2, p3)\u001b[39m\u001b[38;5;124m'\u001b[39m, \u001b[38;5;124m'\u001b[39m\u001b[38;5;124mblock2\u001b[39m\u001b[38;5;124m'\u001b[39m, \u001b[38;5;124m'\u001b[39m\u001b[38;5;124mand(block1, not(block2))\u001b[39m\u001b[38;5;124m'\u001b[39m), \n\u001b[0;32m     10\u001b[0m ]\n\u001b[0;32m     12\u001b[0m model \u001b[38;5;241m=\u001b[39m Model(fluents, actions, agents, domain)\n\u001b[0;32m     14\u001b[0m agentsP1P2 \u001b[38;5;241m=\u001b[39m AgentGroup([\u001b[38;5;124m'\u001b[39m\u001b[38;5;124mp1\u001b[39m\u001b[38;5;124m'\u001b[39m, \u001b[38;5;124m'\u001b[39m\u001b[38;5;124mp2\u001b[39m\u001b[38;5;124m'\u001b[39m], agents)\n",
                        "\u001b[1;31mNameError\u001b[0m: name 'Initialisation' is not defined"
                    ]
                }
            ],
            "source": [
                "fluents = ['block1', 'block2']\n",
                "actions = ['addBlock']\n",
                "agents = ['p1', 'p2', 'p3']\n",
                "\n",
                "domain = [\n",
                "    Initialisation('and(not(block1), not(block2))'),\n",
                "    Constraint('imp(block2, block1)'),\n",
                "    Effect('addBlock', 'or(and(p1, p2), and(p2, p2), and(p1, p3))', 'block1', 'not(block1)'),\n",
                "    Effect('addBlock', 'and(p1, p2, p3)', 'block2', 'and(block1, not(block2))'), \n",
                "]\n",
                "\n",
                "model = Model(fluents, actions, agents, domain)\n",
                "\n",
                "agentsP1P2 = AgentGroup(['p1', 'p2'], agents)\n",
                "agentsP1P2P3 = AgentGroup(['p1', 'p2', 'p3'], agents)"
            ]
        },
        {
            "cell_type": "code",
            "execution_count": 3,
            "metadata": {},
            "outputs": [
                {
                    "data": {
                        "text/plain": [
                            "False"
                        ]
                    },
                    "execution_count": 3,
                    "metadata": {},
                    "output_type": "execute_result"
                }
            ],
            "source": [
                "Q = AccessabilityQuery(False, 'block2', agentsP1P2)\n",
                "Q.answer(model) # dwóch praconików nigdy nie postawi dwóch bloków"
            ]
        },
        {
            "cell_type": "code",
            "execution_count": 4,
            "metadata": {},
            "outputs": [
                {
                    "data": {
                        "text/plain": [
                            "True"
                        ]
                    },
                    "execution_count": 4,
                    "metadata": {},
                    "output_type": "execute_result"
                }
            ],
            "source": [
                "Q = AccessabilityQuery(False, 'block2', agentsP1P2P3)\n",
                "Q.answer(model) # trzech pracowników jest w stanie postawić dwa bloki"
            ]
        },
        {
            "cell_type": "code",
            "execution_count": 6,
            "metadata": {},
            "outputs": [
                {
                    "name": "stdout",
                    "output_type": "stream",
                    "text": [
                        "False\n",
                        "True\n"
                    ]
                }
            ],
            "source": [
                "P = Program([('addBlock', agentsP1P2), ('addBlock', agentsP1P2P3)])\n",
                "Q = SufficiencyQuery(agentsP1P2, P)\n",
                "print(Q.answer(model))\n",
                "Q = SufficiencyQuery(agentsP1P2P3, P)\n",
                "print(Q.answer(model))"
            ]
        },
        {
            "cell_type": "markdown",
            "metadata": {},
            "source": [
                "### Przykład 5 -- Uciekający Indyk\n",
                "\n",
                "zmodyfikowany Yale Shooting Problem. Fred jest też agentem, który może zacząć uciekać. Jeśli ucieka Bill nie zawsze będzie w stanie go trafić.\n",
                "\n",
                "````{verbatim}\n",
                "initially alive\n",
                "initially ~loaded\n",
                "initially ~fredRunning\n",
                "always fredRunning => alive\n",
                "load by Bill causes loaded\n",
                "shoot by Bill causes ~loaded \n",
                "shoot by Bill causes ~alive if loaded ^ ~fredRunning\n",
                "shoot by Bill releases alive if alive ^ loaded ^ fredRunning\n",
                "run by Fred causes fredRunning if alive\n",
                "````"
            ]
        },
        {
            "cell_type": "code",
            "execution_count": 83,
            "metadata": {},
            "outputs": [],
            "source": [
                "fluents = ['alive', 'loaded', 'fredRunning']\n",
                "actions = ['load', 'shoot', 'run']\n",
                "agents = ['Bill', 'Fred']\n",
                "\n",
                "domain = [\n",
                "    Initialisation('and(alive, not(loaded), not(fredRunning))'),\n",
                "    Constraint('imp(fredRunning, alive)'),\n",
                "    Effect('load', 'Bill', 'loaded'),\n",
                "    Effect('shoot', 'Bill', 'not(loaded)'),\n",
                "    Effect('shoot', 'Bill', 'not(alive)', 'and(loaded, not(fredRunning))'),\n",
                "    Release('shoot', 'Bill', 'alive', 'and(loaded, alive, fredRunning)'),\n",
                "    Release('shoot', 'Bill', 'fredRunning', 'and(loaded, alive, fredRunning)'),\n",
                "    Effect('run', 'Fred', 'fredRunning', 'alive')\n",
                "]\n",
                "\n",
                "model = Model(fluents, actions, agents, domain)"
            ]
        },
        {
            "cell_type": "code",
            "execution_count": 84,
            "metadata": {},
            "outputs": [
                {
                    "data": {
                        "text/plain": [
                            "True"
                        ]
                    },
                    "execution_count": 84,
                    "metadata": {},
                    "output_type": "execute_result"
                }
            ],
            "source": [
                "G = AgentGroup(agents, agents)\n",
                "Q = AccessabilityQuery(False, 'not(alive)', G, 'and(alive, not(loaded), fredRunning)')\n",
                "Q.answer(model)"
            ]
        },
        {
            "cell_type": "code",
            "execution_count": 77,
            "metadata": {},
            "outputs": [],
            "source": [
                "fluents = ['alive', 'loaded', 'fredRunning']\n",
                "actions = ['load', 'shoot', 'run']\n",
                "agents = ['Bill', 'Fred']\n",
                "\n",
                "domain = [\n",
                "    Initialisation('and(alive, not(loaded), not(fredRunning))'),\n",
                "    Constraint('imp(fredRunning, alive)'),\n",
                "    Effect('load', 'Bill', 'loaded'),\n",
                "    Release('load', 'Bill', 'fredRunning', 'not(fredRunning)'),\n",
                "    Effect('shoot', 'Bill', 'not(loaded)'),\n",
                "    Effect('shoot', 'Bill', 'not(alive)', 'and(loaded, not(fredRunning))'),\n",
                "    Release('shoot', 'Bill', 'alive', 'and(loaded, alive, fredRunning)'),\n",
                "    Release('shoot', 'Bill', 'fredRunning', 'and(loaded, alive, fredRunning)'),\n",
                "]\n",
                "\n",
                "model = Model(fluents, actions, agents, domain)"
            ]
        },
        {
            "cell_type": "code",
            "execution_count": 82,
            "metadata": {},
            "outputs": [
                {
                    "data": {
                        "text/plain": [
                            "False"
                        ]
                    },
                    "execution_count": 82,
                    "metadata": {},
                    "output_type": "execute_result"
                }
            ],
            "source": [
                "G = AgentGroup(agents, agents)\n",
                "Q = AccessabilityQuery(True, 'not(alive)', G)\n",
                "Q.answer(model)"
            ]
        }
    ],
    "metadata": {
        "kernelspec": {
            "display_name": "Python 3",
            "language": "python",
            "name": "python3"
        },
        "language_info": {
            "codemirror_mode": {
                "name": "ipython",
                "version": 3
            },
            "file_extension": ".py",
            "mimetype": "text/x-python",
            "name": "python",
            "nbconvert_exporter": "python",
            "pygments_lexer": "ipython3",
            "version": "3.11.3"
        }
    },
    "nbformat": 4,
    "nbformat_minor": 2
}